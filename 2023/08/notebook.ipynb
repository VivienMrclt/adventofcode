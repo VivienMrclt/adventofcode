{
 "cells": [
  {
   "cell_type": "markdown",
   "metadata": {},
   "source": [
    "# Day 8: Haunted Wasteland\n",
    "\n",
    "You're still riding a camel across Desert Island when you spot a sandstorm quickly approaching. When you turn to warn the Elf, she disappears before your eyes! To be fair, she had just finished warning you about ghosts a few minutes ago.\n",
    "\n",
    "One of the camel's pouches is labeled \"maps\" - sure enough, it's full of documents (your puzzle input) about how to navigate the desert. At least, you're pretty sure that's what they are; one of the documents contains a list of left/right instructions, and the rest of the documents seem to describe some kind of network of labeled nodes.\n",
    "\n",
    "It seems like you're meant to use the left/right instructions to navigate the network. Perhaps if you have the camel follow the same instructions, you can escape the haunted wasteland!\n",
    "\n",
    "After examining the maps for a bit, two nodes stick out: AAA and ZZZ. You feel like AAA is where you are now, and you have to follow the left/right instructions until you reach ZZZ.\n",
    "\n",
    "This format defines each node of the network individually. For example:\n",
    "\n",
    "```\n",
    "RL\n",
    "\n",
    "AAA = (BBB, CCC)\n",
    "BBB = (DDD, EEE)\n",
    "CCC = (ZZZ, GGG)\n",
    "DDD = (DDD, DDD)\n",
    "EEE = (EEE, EEE)\n",
    "GGG = (GGG, GGG)\n",
    "ZZZ = (ZZZ, ZZZ)\n",
    "```\n",
    "\n",
    "Starting with AAA, you need to look up the next element based on the next left/right instruction in your input. In this example, start with AAA and go right (R) by choosing the right element of AAA, CCC. Then, L means to choose the left element of CCC, ZZZ. By following the left/right instructions, you reach ZZZ in 2 steps.\n",
    "\n",
    "Of course, you might not find ZZZ right away. If you run out of left/right instructions, repeat the whole sequence of instructions as necessary: RL really means RLRLRLRLRLRLRLRL... and so on. For example, here is a situation that takes 6 steps to reach ZZZ:\n",
    "\n",
    "```\n",
    "LLR\n",
    "\n",
    "AAA = (BBB, BBB)\n",
    "BBB = (AAA, ZZZ)\n",
    "ZZZ = (ZZZ, ZZZ)\n",
    "```\n",
    "\n",
    "Starting at AAA, follow the left/right instructions. How many steps are required to reach ZZZ?\n",
    "\n"
   ]
  },
  {
   "cell_type": "code",
   "execution_count": 33,
   "metadata": {},
   "outputs": [
    {
     "data": {
      "text/plain": [
       "16697"
      ]
     },
     "execution_count": 33,
     "metadata": {},
     "output_type": "execute_result"
    }
   ],
   "source": [
    "import regex as re\n",
    "from itertools import cycle\n",
    "\n",
    "\n",
    "p_test = re.compile(r\"(?P<from>[A-Z]{3}) = \\((?P<left>[A-Z]{3}), (?P<right>[A-Z]{3})\\)\")\n",
    "path = \"\"\n",
    "mapping = {}\n",
    "with open(\"2023_day_8_input.txt\") as f:\n",
    "    for i, line in enumerate(f):\n",
    "        if i == 0:\n",
    "            path = line[:-1]\n",
    "            continue\n",
    "        if line == \"\\n\":\n",
    "            continue\n",
    "        match = p_test.match(line)\n",
    "        if match is not None:\n",
    "            mapping[match.group(\"from\")] = {\n",
    "                \"L\": match.group(\"left\"),\n",
    "                \"R\": match.group(\"right\"),\n",
    "            }\n",
    "\n",
    "pos = \"AAA\"\n",
    "step = 0\n",
    "for dir in cycle(path):\n",
    "    pos = mapping[pos][dir]\n",
    "    step += 1\n",
    "    if pos == \"ZZZ\":\n",
    "        break\n",
    "step"
   ]
  },
  {
   "cell_type": "markdown",
   "metadata": {},
   "source": [
    "# Part Two\n",
    "\n",
    "The sandstorm is upon you and you aren't any closer to escaping the wasteland. You had the camel follow the instructions, but you've barely left your starting position. It's going to take significantly more steps to escape!\n",
    "\n",
    "What if the map isn't for people - what if the map is for ghosts? Are ghosts even bound by the laws of spacetime? Only one way to find out.\n",
    "\n",
    "After examining the maps a bit longer, your attention is drawn to a curious fact: the number of nodes with names ending in A is equal to the number ending in Z! If you were a ghost, you'd probably just start at every node that ends with A and follow all of the paths at the same time until they all simultaneously end up at nodes that end with Z.\n",
    "\n",
    "For example:\n",
    "\n",
    "```\n",
    "LR\n",
    "\n",
    "11A = (11B, XXX)\n",
    "11B = (XXX, 11Z)\n",
    "11Z = (11B, XXX)\n",
    "22A = (22B, XXX)\n",
    "22B = (22C, 22C)\n",
    "22C = (22Z, 22Z)\n",
    "22Z = (22B, 22B)\n",
    "XXX = (XXX, XXX)\n",
    "```\n",
    "\n",
    "Here, there are two starting nodes, 11A and 22A (because they both end with A). As you follow each left/right instruction, use that instruction to simultaneously navigate away from both nodes you're currently on. Repeat this process until all of the nodes you're currently on end with Z. (If only some of the nodes you're on end with Z, they act like any other node and you continue as normal.) In this example, you would proceed as follows:\n",
    "\n",
    "- Step 0: You are at 11A and 22A.\n",
    "- Step 1: You choose all of the left paths, leading you to 11B and 22B.\n",
    "- Step 2: You choose all of the right paths, leading you to 11Z and 22C.\n",
    "- Step 3: You choose all of the left paths, leading you to 11B and 22Z.\n",
    "- Step 4: You choose all of the right paths, leading you to 11Z and 22B.\n",
    "- Step 5: You choose all of the left paths, leading you to 11B and 22C.\n",
    "- Step 6: You choose all of the right paths, leading you to 11Z and 22Z.\n",
    "So, in this example, you end up entirely on nodes that end in Z after 6 steps.\n",
    "\n",
    "Simultaneously start on every node that ends with A. How many steps does it take before you're only on nodes that end with Z?"
   ]
  },
  {
   "cell_type": "code",
   "execution_count": 84,
   "metadata": {},
   "outputs": [
    {
     "name": "stdout",
     "output_type": "stream",
     "text": [
      "Solution not found\n"
     ]
    }
   ],
   "source": [
    "import numpy as np\n",
    "\n",
    "pos = [p for p in mapping.keys() if p.endswith(\"A\")]\n",
    "step = 0\n",
    "for dir in cycle(path):\n",
    "    pos = [mapping[p][dir] for p in pos]\n",
    "    step += 1\n",
    "    if np.all([p.endswith(\"Z\") for p in pos]):\n",
    "        break\n",
    "    if step == 100000:\n",
    "        print(\"Solution not found\")\n",
    "        break"
   ]
  },
  {
   "cell_type": "markdown",
   "metadata": {},
   "source": [
    "This is apparently not the right way to find the answer. Let's check for the cycling behavior. Starting from a point we must necessarily reach a point where we will just loop. The lower bound for this loop length being the length of the cycling set of instructions (if its minimal, let's assume that)"
   ]
  },
  {
   "cell_type": "code",
   "execution_count": 76,
   "metadata": {},
   "outputs": [],
   "source": [
    "cycle_mapping = {}\n",
    "\n",
    "for start in mapping.keys():\n",
    "    pos = start\n",
    "    step = 0\n",
    "    end_steps = []\n",
    "    for dir in path:\n",
    "        pos = mapping[pos][dir]\n",
    "        step += 1\n",
    "        if pos.endswith(\"Z\"):\n",
    "            end_steps.append(step)\n",
    "    cycle_mapping[start] = {\n",
    "        \"end_steps\": end_steps,\n",
    "        \"next\": pos,\n",
    "    }"
   ]
  },
  {
   "cell_type": "code",
   "execution_count": 79,
   "metadata": {},
   "outputs": [
    {
     "data": {
      "text/plain": [
       "{'XDB': {'end_steps': [283], 'next': 'KKZ'},\n",
       " 'MXJ': {'end_steps': [283], 'next': 'XSZ'},\n",
       " 'MFR': {'end_steps': [283], 'next': 'BLZ'},\n",
       " 'RVX': {'end_steps': [283], 'next': 'RGZ'},\n",
       " 'BVX': {'end_steps': [283], 'next': 'KKZ'},\n",
       " 'RFP': {'end_steps': [283], 'next': 'RGZ'},\n",
       " 'LSS': {'end_steps': [283], 'next': 'VQZ'},\n",
       " 'MQR': {'end_steps': [283], 'next': 'BLZ'},\n",
       " 'BGT': {'end_steps': [283], 'next': 'ZZZ'},\n",
       " 'HFQ': {'end_steps': [283], 'next': 'ZZZ'},\n",
       " 'LPS': {'end_steps': [283], 'next': 'VQZ'},\n",
       " 'MMR': {'end_steps': [283], 'next': 'XSZ'}}"
      ]
     },
     "execution_count": 79,
     "metadata": {},
     "output_type": "execute_result"
    }
   ],
   "source": [
    "{p: cycle_mapping[p] for p in cycle_mapping.keys() if len(cycle_mapping[p][\"end_steps\"]) > 0}"
   ]
  },
  {
   "cell_type": "markdown",
   "metadata": {},
   "source": [
    "After mapping each node to the corresonding node a the end of the instruction cycl we can also observe that end nodes can only be reached at the end of cycle of instruction. Which is useful for us"
   ]
  },
  {
   "cell_type": "code",
   "execution_count": 108,
   "metadata": {},
   "outputs": [
    {
     "name": "stdout",
     "output_type": "stream",
     "text": [
      "Solution not found\n"
     ]
    },
    {
     "data": {
      "text/plain": [
       "100000"
      ]
     },
     "execution_count": 108,
     "metadata": {},
     "output_type": "execute_result"
    }
   ],
   "source": [
    "from itertools import count\n",
    "\n",
    "pos = [p for p in mapping.keys() if p.endswith(\"A\")]\n",
    "for c in count():\n",
    "    pos = [cycle_mapping[p][\"next\"] for p in pos]\n",
    "    if np.all([p.endswith(\"Z\") for p in pos]):\n",
    "        break\n",
    "    if c == 100000:\n",
    "        print(\"Solution not found\")\n",
    "        break\n",
    "c"
   ]
  },
  {
   "cell_type": "markdown",
   "metadata": {},
   "source": [
    "Still unsuccessful. Let's check for the cycles of each start points"
   ]
  },
  {
   "cell_type": "code",
   "execution_count": 111,
   "metadata": {},
   "outputs": [
    {
     "name": "stdout",
     "output_type": "stream",
     "text": [
      "1\n",
      "72\n",
      "[71]\n",
      "1\n",
      "44\n",
      "[43]\n",
      "1\n",
      "48\n",
      "[47]\n",
      "1\n",
      "74\n",
      "[73]\n",
      "1\n",
      "60\n",
      "[59]\n",
      "1\n",
      "62\n",
      "[61]\n"
     ]
    }
   ],
   "source": [
    "starts = [p for p in mapping.keys() if p.endswith(\"A\")]\n",
    "cycle_lens = []\n",
    "for start in starts:\n",
    "    pos_list = [start]\n",
    "    end_cycle = []\n",
    "    for c in count(1):\n",
    "        new_pos = cycle_mapping[pos_list[-1]][\"next\"]\n",
    "        if new_pos.endswith(\"Z\"):\n",
    "            end_cycle.append(c)\n",
    "        if new_pos in pos_list:\n",
    "            print(pos_list.index(new_pos))\n",
    "            print(len(pos_list))\n",
    "            print(end_cycle)\n",
    "            cycle_lens.append(len(pos_list) - pos_list.index(new_pos))\n",
    "            break\n",
    "        pos_list.append(new_pos)"
   ]
  },
  {
   "cell_type": "markdown",
   "metadata": {},
   "source": [
    "Another simplification comes from the fact that all start points reach a cycle after the first sequence of instructions. Also these cycles only contains a node ending with \"Z\" just before the end of the cycle. This means that the cycles will reach an end node at the same time when the cycles will end together. The answeris thus as follow.."
   ]
  },
  {
   "cell_type": "code",
   "execution_count": 114,
   "metadata": {},
   "outputs": [
    {
     "data": {
      "text/plain": [
       "10668805667831"
      ]
     },
     "execution_count": 114,
     "metadata": {},
     "output_type": "execute_result"
    }
   ],
   "source": [
    "from math import lcm\n",
    "\n",
    "lcm(*cycle_lens) * len(path)"
   ]
  }
 ],
 "metadata": {
  "kernelspec": {
   "display_name": ".venv",
   "language": "python",
   "name": "python3"
  },
  "language_info": {
   "codemirror_mode": {
    "name": "ipython",
    "version": 3
   },
   "file_extension": ".py",
   "mimetype": "text/x-python",
   "name": "python",
   "nbconvert_exporter": "python",
   "pygments_lexer": "ipython3",
   "version": "3.11.3"
  },
  "orig_nbformat": 4
 },
 "nbformat": 4,
 "nbformat_minor": 2
}
