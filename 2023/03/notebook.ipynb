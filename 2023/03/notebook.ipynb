{
 "cells": [
  {
   "cell_type": "markdown",
   "metadata": {},
   "source": [
    "# Day 3: Gear Ratios\n",
    "\n",
    "---\n",
    "\n",
    "You and the Elf eventually reach a gondola lift station; he says the gondola lift will take you up to the water source, but this is as far as he can bring you. You go inside.\n",
    "\n",
    "It doesn't take long to find the gondolas, but there seems to be a problem: they're not moving.\n",
    "\n",
    "\"Aaah!\"\n",
    "\n",
    "You turn around to see a slightly-greasy Elf with a wrench and a look of surprise. \"Sorry, I wasn't expecting anyone! The gondola lift isn't working right now; it'll still be a while before I can fix it.\" You offer to help.\n",
    "\n",
    "The engineer explains that an engine part seems to be missing from the engine, but nobody can figure out which one. If you can add up all the part numbers in the engine schematic, it should be easy to work out which part is missing.\n",
    "\n",
    "The engine schematic (your puzzle input) consists of a visual representation of the engine. There are lots of numbers and symbols you don't really understand, but apparently any number adjacent to a symbol, even diagonally, is a \"part number\" and should be included in your sum. (Periods (.) do not count as a symbol.)\n",
    "\n",
    "Here is an example engine schematic:\n",
    "```\n",
    "467..114..\n",
    "...*......\n",
    "..35..633.\n",
    "......#...\n",
    "617*......\n",
    ".....+.58.\n",
    "..592.....\n",
    "......755.\n",
    "...$.*....\n",
    ".664.598..\n",
    "```\n",
    "In this schematic, two numbers are not part numbers because they are not adjacent to a symbol: 114 (top right) and 58 (middle right). Every other number is adjacent to a symbol and so is a part number; their sum is 4361.\n",
    "\n",
    "Of course, the actual engine schematic is much larger. What is the sum of all of the part numbers in the engine schematic?\n",
    "\n",
    "To begin, get your puzzle input."
   ]
  },
  {
   "cell_type": "code",
   "execution_count": 20,
   "metadata": {},
   "outputs": [],
   "source": [
    "schema = []\n",
    "with open(\"2023_day_3_input.txt\", \"r\") as f:\n",
    "    for line in f:\n",
    "        schema.append([c for c in line.replace(\"\\n\", \"\")])"
   ]
  },
  {
   "cell_type": "code",
   "execution_count": 12,
   "metadata": {},
   "outputs": [
    {
     "data": {
      "text/plain": [
       "531932"
      ]
     },
     "execution_count": 12,
     "metadata": {},
     "output_type": "execute_result"
    }
   ],
   "source": [
    "import itertools\n",
    "empty_s = '.'\n",
    "digits = [str(i) for i in range(10)]\n",
    "found_number = {}\n",
    "for i, j in itertools.product(range(len(schema)), range(len(schema[0]))):\n",
    "    s = schema[i][j]\n",
    "    if schema[i][j] != empty_s and s not in digits:\n",
    "        for di, dj in itertools.product(range(-1, 2), range(-1, 2)):\n",
    "            if schema[i + di][j + dj] in digits:\n",
    "                min_j = j + dj\n",
    "                while min_j > 0 and schema[i + di][min_j - 1] in digits:\n",
    "                    min_j -= 1\n",
    "                max_j = j + dj\n",
    "                while max_j < len(schema[0]) - 1 and schema[i + di][max_j + 1] in digits:\n",
    "                    max_j += 1\n",
    "                found_number[(i + di, min_j)] = int(\"\".join([schema[i + di][j_p] for j_p in range(min_j, max_j + 1)]))\n",
    "sum(found_number.values())\n",
    "                \n"
   ]
  },
  {
   "cell_type": "markdown",
   "metadata": {},
   "source": [
    "# Part Two\n",
    "\n",
    "---\n",
    "\n",
    "The engineer finds the missing part and installs it in the engine! As the engine springs to life, you jump in the closest gondola, finally ready to ascend to the water source.\n",
    "\n",
    "You don't seem to be going very fast, though. Maybe something is still wrong? Fortunately, the gondola has a phone labeled \"help\", so you pick it up and the engineer answers.\n",
    "\n",
    "Before you can explain the situation, she suggests that you look out the window. There stands the engineer, holding a phone in one hand and waving with the other. You're going so slowly that you haven't even left the station. You exit the gondola.\n",
    "\n",
    "The missing part wasn't the only issue - one of the gears in the engine is wrong. A gear is any * symbol that is adjacent to exactly two part numbers. Its gear ratio is the result of multiplying those two numbers together.\n",
    "\n",
    "This time, you need to find the gear ratio of every gear and add them all up so that the engineer can figure out which gear needs to be replaced.\n",
    "\n",
    "Consider the same engine schematic again:\n",
    "```\n",
    "467..114..\n",
    "...*......\n",
    "..35..633.\n",
    "......#...\n",
    "617*......\n",
    ".....+.58.\n",
    "..592.....\n",
    "......755.\n",
    "...$.*....\n",
    ".664.598..\n",
    "```\n",
    "In this schematic, there are two gears. The first is in the top left; it has part numbers 467 and 35, so its gear ratio is 16345. The second gear is in the lower right; its gear ratio is 451490. (The * adjacent to 617 is not a gear because it is only adjacent to one part number.) Adding up all of the gear ratios produces 467835.\n",
    "\n",
    "What is the sum of all of the gear ratios in your engine schematic?"
   ]
  },
  {
   "cell_type": "code",
   "execution_count": 22,
   "metadata": {},
   "outputs": [
    {
     "data": {
      "text/plain": [
       "73646890"
      ]
     },
     "execution_count": 22,
     "metadata": {},
     "output_type": "execute_result"
    }
   ],
   "source": [
    "import itertools\n",
    "empty_s = '.'\n",
    "digits = [str(i) for i in range(10)]\n",
    "res = 0\n",
    "for i, j in itertools.product(range(len(schema)), range(len(schema[0]))):\n",
    "    s = schema[i][j]\n",
    "    if schema[i][j] == \"*\":\n",
    "        part_number = {}\n",
    "        for di, dj in itertools.product(range(-1, 2), range(-1, 2)):\n",
    "            if schema[i + di][j + dj] in digits:\n",
    "                min_j = j + dj\n",
    "                while min_j > 0 and schema[i + di][min_j - 1] in digits:\n",
    "                    min_j -= 1\n",
    "                max_j = j + dj\n",
    "                while max_j < len(schema[0]) - 1 and schema[i + di][max_j + 1] in digits:\n",
    "                    max_j += 1\n",
    "                part_number[(i + di, min_j)] = int(\"\".join([schema[i + di][j_p] for j_p in range(min_j, max_j + 1)]))\n",
    "        parts = list(part_number.values())\n",
    "        if len(parts) == 2:\n",
    "            res += parts[0] * parts[1]\n",
    "res"
   ]
  }
 ],
 "metadata": {
  "kernelspec": {
   "display_name": ".venv",
   "language": "python",
   "name": "python3"
  },
  "language_info": {
   "codemirror_mode": {
    "name": "ipython",
    "version": 3
   },
   "file_extension": ".py",
   "mimetype": "text/x-python",
   "name": "python",
   "nbconvert_exporter": "python",
   "pygments_lexer": "ipython3",
   "version": "3.11.3"
  },
  "orig_nbformat": 4
 },
 "nbformat": 4,
 "nbformat_minor": 2
}
